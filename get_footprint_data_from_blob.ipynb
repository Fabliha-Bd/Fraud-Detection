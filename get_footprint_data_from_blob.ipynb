{
 "cells": [
  {
   "cell_type": "code",
   "execution_count": 1,
   "source": [
    "#download_data_from_blob\r\n",
    "import os\r\n",
    "from azure.storage.blob import ContainerClient\r\n",
    "from azure.storage.blob import BlobClient\r\n",
    "from json import loads\r\n",
    "from os.path import join\r\n",
    "import datetime\r\n",
    "from datetime import datetime, timedelta\r\n",
    "import _thread\r\n",
    "\r\n",
    "import threading\r\n",
    "import time\r\n",
    "\r\n",
    "class myThread (threading.Thread):\r\n",
    "    def __init__(self, blob, i, directory_path,cs):\r\n",
    "        threading.Thread.__init__(self)\r\n",
    "        self.blob = blob\r\n",
    "        self.i = i\r\n",
    "        self.directory_path = directory_path\r\n",
    "        self.cs = cs\r\n",
    "    def run(self):\r\n",
    "        threadLock.acquire()\r\n",
    "        thread_func(self.blob , self.i,self.directory_path , self.cs)\r\n",
    "        # Free lock to release next thread\r\n",
    "        threadLock.release()\r\n",
    "\r\n",
    "def thread_func(blob , i,directory_path , cs):\r\n",
    "        download_path = directory_path+'/entry_'+str(i)+'.json'\r\n",
    "        blob = BlobClient.from_connection_string(conn_str=cs, container_name=\"sampleiothubcontainer\",blob_name=blob.name)\r\n",
    "        with open(download_path, \"wb\") as my_blob:       \r\n",
    "            blob_data = blob.download_blob()\r\n",
    "            blob_data.readinto(my_blob)\r\n",
    "threadLock = threading.Lock()\r\n",
    "threads = []\r\n",
    "\r\n",
    "\r\n",
    "class FootPrintData:\r\n",
    "    ''' Download footprints data of providers from iothub container '''\r\n",
    "    \r\n",
    "    def __init__(self):\r\n",
    "        file='config/mongo_creds.json'\r\n",
    "        pwd= os.getcwd()\r\n",
    "        path = join(pwd, file)\r\n",
    "        if not os.path.exists(path):\r\n",
    "            raise FileNotFoundError('File', path, 'not found')\r\n",
    "        f = open(path)\r\n",
    "        self.creds = loads(f.read()) \r\n",
    "        self.connection_string = self.creds['connection_string_blob']\r\n",
    "        \r\n",
    "        \r\n",
    "        \r\n",
    "    \r\n",
    "    \r\n",
    "    \r\n",
    "    \r\n",
    "    def thread_func(self, blob , i,directory_path):\r\n",
    "        download_path = directory_path+'/entry_'+str(i)+'.json'\r\n",
    "        blob = BlobClient.from_connection_string(conn_str=self.connection_string, container_name=\"iothubcontainer\",blob_name=blob.name)\r\n",
    "        with open(download_path, \"wb\") as my_blob:       \r\n",
    "            blob_data = blob.download_blob()\r\n",
    "            blob_data.readinto(my_blob)\r\n",
    "        \r\n",
    "    def get_data(self,timespan=7):\r\n",
    "        ''' \r\n",
    "            This method is used to download data, create directory and store the data there. \r\n",
    "                args: \r\n",
    "                    timespan : Number of days' data to download. Here 7 stands for last 7 days' data  \r\n",
    "                    \r\n",
    "        '''\r\n",
    "        try:       \r\n",
    "            container = ContainerClient.from_connection_string(conn_str=self.connection_string, container_name=\"sampleiothubcontainer\")\r\n",
    "            for number in range(1,timespan+1):\r\n",
    "                date = datetime.strftime(datetime.now() - timedelta(number), '%d-%m-%Y')\r\n",
    "                print(date)\r\n",
    "                blob_list = container.list_blobs(name_starts_with=\"path/to/provider/footprints/location-history-\"+date+\"/\")\r\n",
    "                i=0   \r\n",
    "                pwd = os.getcwd()\r\n",
    "                directory_path = join(pwd, 'location-history-'+date)\r\n",
    "                if not os.path.exists(directory_path):\r\n",
    "                    os.mkdir(directory_path)\r\n",
    "                    for blob in blob_list:\r\n",
    "                        #_thread.start_new_thread( self.thread_func, (blob, i,directory_path, ) )\r\n",
    "                        #self.thread_func(blob , i, directory_path)\r\n",
    "                        thread = myThread(blob, i, directory_path , self.connection_string)\r\n",
    "                        thread.start()\r\n",
    "                        threads.append(thread)\r\n",
    "                        i= i + 1\r\n",
    "                   \r\n",
    "                        \r\n",
    "        except Exception as ex:\r\n",
    "            raise (\"Error in downloading blob\")\r\n",
    "            print(ex)\r\n",
    "        for t in threads:\r\n",
    "            t.join()\r\n",
    "        print(\"ENDED\")\r\n",
    "            \r\n",
    "                                 "
   ],
   "outputs": [],
   "metadata": {}
  },
  {
   "cell_type": "code",
   "execution_count": 2,
   "source": [
    "abas = FootPrintData()"
   ],
   "outputs": [],
   "metadata": {}
  },
  {
   "cell_type": "code",
   "execution_count": null,
   "source": [
    "abas.get_data(1)"
   ],
   "outputs": [
    {
     "output_type": "stream",
     "name": "stdout",
     "text": [
      "06-06-2021\n"
     ]
    }
   ],
   "metadata": {}
  }
 ],
 "metadata": {
  "kernelspec": {
   "display_name": "Python 3",
   "language": "python",
   "name": "python3"
  },
  "language_info": {
   "codemirror_mode": {
    "name": "ipython",
    "version": 3
   },
   "file_extension": ".py",
   "mimetype": "text/x-python",
   "name": "python",
   "nbconvert_exporter": "python",
   "pygments_lexer": "ipython3",
   "version": "3.8.3"
  }
 },
 "nbformat": 4,
 "nbformat_minor": 4
}