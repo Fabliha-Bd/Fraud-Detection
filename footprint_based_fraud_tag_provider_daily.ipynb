{
 "cells": [
  {
   "cell_type": "code",
   "execution_count": 1,
   "source": [
    "import pandas as pd\r\n",
    "from datetime import datetime, timedelta\r\n",
    "from database_manager import DatabaseManager\r\n",
    "from helper import write_to_db"
   ],
   "outputs": [],
   "metadata": {
    "scrolled": true
   }
  },
  {
   "cell_type": "code",
   "execution_count": 2,
   "source": [
    "number = 1\r\n",
    "\r\n",
    "df = pd.read_csv(datetime.strftime(datetime.now() - timedelta(number), '%d-%m-%Y') +'_coordinate_foods.csv')"
   ],
   "outputs": [],
   "metadata": {
    "scrolled": true
   }
  },
  {
   "cell_type": "code",
   "execution_count": 3,
   "source": [
    "df"
   ],
   "outputs": [
    {
     "output_type": "execute_result",
     "data": {
      "text/plain": [
       "               created_at     order_id                               user_id  \\\n",
       "0     2021-08-01 08:46:49   RH-2C5C0-6  7c55a9b2-76b4-4ae9-9bef-b3d2a5df62d7   \n",
       "1     2021-08-01 10:54:26  MS-51C6D-22  f026fa9c-a816-45e2-a644-17fe591e29f4   \n",
       "2     2021-08-01 12:39:29   AP-84B87-6  a32e1727-6d46-498a-b704-7609e6a2eb78   \n",
       "3     2021-08-01 12:50:23   AS-AD41F-5  b3096a63-179c-4710-8482-2a6a1d077905   \n",
       "4     2021-08-01 15:01:15   MR-9CABC-4  71e2c01a-b09d-49b1-9fcf-888408affb5a   \n",
       "...                   ...          ...                                   ...   \n",
       "2023  2021-08-01 11:54:44   MR-A068E-1  969fe312-d6a9-48c6-b902-3a8240bf3bcb   \n",
       "2024  2021-08-01 11:57:54   FM-E59A6-8  7d7f1bb1-323a-46d8-908e-732deb04bf41   \n",
       "2025  2021-08-01 12:31:58   MC-28D4C-7  c3bbe9df-af31-4a4b-af8c-8c6d137ced50   \n",
       "2026  2021-08-01 11:22:31   RA-15E12-6  bc4d07cd-fc2d-4413-83f0-cf7bd8d8cbe7   \n",
       "2027  2021-08-01 07:40:50  SF-B71FB-13  096fd5ed-8a36-4c40-8c90-ffecbeb78200   \n",
       "\n",
       "                               provider_id                   restaurant_name  \\\n",
       "0     867bea4a-6cb4-4f3b-b491-2ac64b212005         Sultan's Dine - Dhanmondi   \n",
       "1     bb9e697e-8fe4-47de-a17f-7c4540fc1306                             7Dayz   \n",
       "2     b457d7cc-287f-4760-b2ec-713a3af006ef                         Cafe Bleu   \n",
       "3     db80af2d-61ca-4955-a532-878207e2029d                      Mr. Sub Khan   \n",
       "4     8f58f715-b2ff-4fa1-8bf8-97c36c05747c  Hazi Nanna Biryani 1 - Mirpur 10   \n",
       "...                                    ...                               ...   \n",
       "2023  8a6bfd3c-21fb-4969-960d-6baad33251d7                 The Mughal Empire   \n",
       "2024  88696949-87bb-4146-89e2-5f633b713771                        Khana Ghat   \n",
       "2025  9e2549b0-4f1e-4fea-b751-7e2d43f46167               Chillox - Dhanmondi   \n",
       "2026  d4308bc0-b3a0-4523-8423-3fa75e3212d5       The Sky Lounge & Restaurant   \n",
       "2027  b24b64b6-9d12-4602-b80d-27c3099079ec                    Burger's World   \n",
       "\n",
       "      restaurant_lat  restaurant_lng  restaurant_payment_type  delivery_lat  \\\n",
       "0          23.742944       90.370972                        1     23.749710   \n",
       "1          22.367022       91.822365                        1     22.360806   \n",
       "2          23.752709       90.381188                        0     23.749073   \n",
       "3          23.799166       90.383179                        0     23.794886   \n",
       "4          23.810072       90.370426                        0     23.799900   \n",
       "...              ...             ...                      ...           ...   \n",
       "2023       23.763041       90.361042                        0     23.767878   \n",
       "2024       22.356834       91.836577                        0     22.337645   \n",
       "2025       23.739212       90.375348                        0     23.739836   \n",
       "2026       22.358722       91.825058                        0     22.357716   \n",
       "2027       22.358995       91.825344                        0     22.371168   \n",
       "\n",
       "      delivery_lng  ... dist_pickedup_delivered  \\\n",
       "0        90.388382  ...                     319   \n",
       "1        91.809189  ...                    5090   \n",
       "2        90.382225  ...                     835   \n",
       "3        90.384003  ...                    1446   \n",
       "4        90.382423  ...                    1175   \n",
       "...            ...  ...                     ...   \n",
       "2023     90.367638  ...                    1416   \n",
       "2024     91.824768  ...                    1885   \n",
       "2025     90.367004  ...                    1868   \n",
       "2026     91.817970  ...                    1520   \n",
       "2027     91.811523  ...                    3471   \n",
       "\n",
       "     count_coordinates_accepted_pickedup count_coordinates_pickedup_delivered  \\\n",
       "0                                    301                                   66   \n",
       "1                                     32                                  142   \n",
       "2                                    498                                  181   \n",
       "3                                    159                                  233   \n",
       "4                                    189                                  210   \n",
       "...                                  ...                                  ...   \n",
       "2023                                  98                                  137   \n",
       "2024                                 510                                  115   \n",
       "2025                                 228                                  174   \n",
       "2026                                 135                                  119   \n",
       "2027                                 261                                  385   \n",
       "\n",
       "                          coordinates_accepted_pickedup  \\\n",
       "0     [(23.7413046, 90.383676), (23.7415272, 90.3838...   \n",
       "1     [(22.3668919, 91.8227149), (22.3669084, 91.822...   \n",
       "2     [(23.7517949, 90.380879), (23.7518297, 90.3808...   \n",
       "3     [(23.7991617, 90.3831567), (23.7990641, 90.383...   \n",
       "4     [(23.8065953, 90.3666264), (23.8065957, 90.366...   \n",
       "...                                                 ...   \n",
       "2023  [(23.7631162, 90.3612515), (23.7631163, 90.361...   \n",
       "2024  [(22.3583426, 91.8371037), (22.3583633, 91.837...   \n",
       "2025  [(23.7450481, 90.3765733), (23.7449712, 90.376...   \n",
       "2026  [(22.3661317, 91.82354), (22.3661317, 91.82354...   \n",
       "2027  [(22.3567817, 91.8365333), (22.3568183, 91.836...   \n",
       "\n",
       "                         coordinates_pickedup_delivered  coord_pattern lt100m  \\\n",
       "0     [(23.7500318, 90.3872629), (23.7500318, 90.387...              0      0   \n",
       "1     [(22.3669458, 91.8223293), (22.3669771, 91.822...              0      0   \n",
       "2     [(23.7491637, 90.3820693), (23.7491788, 90.382...              0      0   \n",
       "3     [(23.7991133, 90.3831667), (23.7991133, 90.383...              0      0   \n",
       "4     [(23.8034716, 90.3761716), (23.8034717, 90.376...              0      0   \n",
       "...                                                 ...            ...    ...   \n",
       "2023  [(23.7631219, 90.3610575), (23.7631143, 90.361...              0      0   \n",
       "2024  [(22.3479853, 91.8328841), (22.3479853, 91.832...              0      0   \n",
       "2025  [(23.7400693, 90.3747728), (23.7400813, 90.374...              0      0   \n",
       "2026  [(22.3589078, 91.8250694), (22.3589353, 91.825...              0      0   \n",
       "2027  [(22.3592688, 91.8249705), (22.3593434, 91.824...              0      0   \n",
       "\n",
       "      lt50m  gt10km  gt20km  \n",
       "0         0       0       0  \n",
       "1         0       0       0  \n",
       "2         0       0       0  \n",
       "3         0       0       0  \n",
       "4         0       0       0  \n",
       "...     ...     ...     ...  \n",
       "2023      0       0       0  \n",
       "2024      0       0       0  \n",
       "2025      0       0       0  \n",
       "2026      0       0       0  \n",
       "2027      0       0       0  \n",
       "\n",
       "[2028 rows x 31 columns]"
      ],
      "text/html": [
       "<div>\n",
       "<style scoped>\n",
       "    .dataframe tbody tr th:only-of-type {\n",
       "        vertical-align: middle;\n",
       "    }\n",
       "\n",
       "    .dataframe tbody tr th {\n",
       "        vertical-align: top;\n",
       "    }\n",
       "\n",
       "    .dataframe thead th {\n",
       "        text-align: right;\n",
       "    }\n",
       "</style>\n",
       "<table border=\"1\" class=\"dataframe\">\n",
       "  <thead>\n",
       "    <tr style=\"text-align: right;\">\n",
       "      <th></th>\n",
       "      <th>created_at</th>\n",
       "      <th>order_id</th>\n",
       "      <th>user_id</th>\n",
       "      <th>provider_id</th>\n",
       "      <th>restaurant_name</th>\n",
       "      <th>restaurant_lat</th>\n",
       "      <th>restaurant_lng</th>\n",
       "      <th>restaurant_payment_type</th>\n",
       "      <th>delivery_lat</th>\n",
       "      <th>delivery_lng</th>\n",
       "      <th>...</th>\n",
       "      <th>dist_pickedup_delivered</th>\n",
       "      <th>count_coordinates_accepted_pickedup</th>\n",
       "      <th>count_coordinates_pickedup_delivered</th>\n",
       "      <th>coordinates_accepted_pickedup</th>\n",
       "      <th>coordinates_pickedup_delivered</th>\n",
       "      <th>coord_pattern</th>\n",
       "      <th>lt100m</th>\n",
       "      <th>lt50m</th>\n",
       "      <th>gt10km</th>\n",
       "      <th>gt20km</th>\n",
       "    </tr>\n",
       "  </thead>\n",
       "  <tbody>\n",
       "    <tr>\n",
       "      <th>0</th>\n",
       "      <td>2021-08-01 08:46:49</td>\n",
       "      <td>RH-2C5C0-6</td>\n",
       "      <td>7c55a9b2-76b4-4ae9-9bef-b3d2a5df62d7</td>\n",
       "      <td>867bea4a-6cb4-4f3b-b491-2ac64b212005</td>\n",
       "      <td>Sultan's Dine - Dhanmondi</td>\n",
       "      <td>23.742944</td>\n",
       "      <td>90.370972</td>\n",
       "      <td>1</td>\n",
       "      <td>23.749710</td>\n",
       "      <td>90.388382</td>\n",
       "      <td>...</td>\n",
       "      <td>319</td>\n",
       "      <td>301</td>\n",
       "      <td>66</td>\n",
       "      <td>[(23.7413046, 90.383676), (23.7415272, 90.3838...</td>\n",
       "      <td>[(23.7500318, 90.3872629), (23.7500318, 90.387...</td>\n",
       "      <td>0</td>\n",
       "      <td>0</td>\n",
       "      <td>0</td>\n",
       "      <td>0</td>\n",
       "      <td>0</td>\n",
       "    </tr>\n",
       "    <tr>\n",
       "      <th>1</th>\n",
       "      <td>2021-08-01 10:54:26</td>\n",
       "      <td>MS-51C6D-22</td>\n",
       "      <td>f026fa9c-a816-45e2-a644-17fe591e29f4</td>\n",
       "      <td>bb9e697e-8fe4-47de-a17f-7c4540fc1306</td>\n",
       "      <td>7Dayz</td>\n",
       "      <td>22.367022</td>\n",
       "      <td>91.822365</td>\n",
       "      <td>1</td>\n",
       "      <td>22.360806</td>\n",
       "      <td>91.809189</td>\n",
       "      <td>...</td>\n",
       "      <td>5090</td>\n",
       "      <td>32</td>\n",
       "      <td>142</td>\n",
       "      <td>[(22.3668919, 91.8227149), (22.3669084, 91.822...</td>\n",
       "      <td>[(22.3669458, 91.8223293), (22.3669771, 91.822...</td>\n",
       "      <td>0</td>\n",
       "      <td>0</td>\n",
       "      <td>0</td>\n",
       "      <td>0</td>\n",
       "      <td>0</td>\n",
       "    </tr>\n",
       "    <tr>\n",
       "      <th>2</th>\n",
       "      <td>2021-08-01 12:39:29</td>\n",
       "      <td>AP-84B87-6</td>\n",
       "      <td>a32e1727-6d46-498a-b704-7609e6a2eb78</td>\n",
       "      <td>b457d7cc-287f-4760-b2ec-713a3af006ef</td>\n",
       "      <td>Cafe Bleu</td>\n",
       "      <td>23.752709</td>\n",
       "      <td>90.381188</td>\n",
       "      <td>0</td>\n",
       "      <td>23.749073</td>\n",
       "      <td>90.382225</td>\n",
       "      <td>...</td>\n",
       "      <td>835</td>\n",
       "      <td>498</td>\n",
       "      <td>181</td>\n",
       "      <td>[(23.7517949, 90.380879), (23.7518297, 90.3808...</td>\n",
       "      <td>[(23.7491637, 90.3820693), (23.7491788, 90.382...</td>\n",
       "      <td>0</td>\n",
       "      <td>0</td>\n",
       "      <td>0</td>\n",
       "      <td>0</td>\n",
       "      <td>0</td>\n",
       "    </tr>\n",
       "    <tr>\n",
       "      <th>3</th>\n",
       "      <td>2021-08-01 12:50:23</td>\n",
       "      <td>AS-AD41F-5</td>\n",
       "      <td>b3096a63-179c-4710-8482-2a6a1d077905</td>\n",
       "      <td>db80af2d-61ca-4955-a532-878207e2029d</td>\n",
       "      <td>Mr. Sub Khan</td>\n",
       "      <td>23.799166</td>\n",
       "      <td>90.383179</td>\n",
       "      <td>0</td>\n",
       "      <td>23.794886</td>\n",
       "      <td>90.384003</td>\n",
       "      <td>...</td>\n",
       "      <td>1446</td>\n",
       "      <td>159</td>\n",
       "      <td>233</td>\n",
       "      <td>[(23.7991617, 90.3831567), (23.7990641, 90.383...</td>\n",
       "      <td>[(23.7991133, 90.3831667), (23.7991133, 90.383...</td>\n",
       "      <td>0</td>\n",
       "      <td>0</td>\n",
       "      <td>0</td>\n",
       "      <td>0</td>\n",
       "      <td>0</td>\n",
       "    </tr>\n",
       "    <tr>\n",
       "      <th>4</th>\n",
       "      <td>2021-08-01 15:01:15</td>\n",
       "      <td>MR-9CABC-4</td>\n",
       "      <td>71e2c01a-b09d-49b1-9fcf-888408affb5a</td>\n",
       "      <td>8f58f715-b2ff-4fa1-8bf8-97c36c05747c</td>\n",
       "      <td>Hazi Nanna Biryani 1 - Mirpur 10</td>\n",
       "      <td>23.810072</td>\n",
       "      <td>90.370426</td>\n",
       "      <td>0</td>\n",
       "      <td>23.799900</td>\n",
       "      <td>90.382423</td>\n",
       "      <td>...</td>\n",
       "      <td>1175</td>\n",
       "      <td>189</td>\n",
       "      <td>210</td>\n",
       "      <td>[(23.8065953, 90.3666264), (23.8065957, 90.366...</td>\n",
       "      <td>[(23.8034716, 90.3761716), (23.8034717, 90.376...</td>\n",
       "      <td>0</td>\n",
       "      <td>0</td>\n",
       "      <td>0</td>\n",
       "      <td>0</td>\n",
       "      <td>0</td>\n",
       "    </tr>\n",
       "    <tr>\n",
       "      <th>...</th>\n",
       "      <td>...</td>\n",
       "      <td>...</td>\n",
       "      <td>...</td>\n",
       "      <td>...</td>\n",
       "      <td>...</td>\n",
       "      <td>...</td>\n",
       "      <td>...</td>\n",
       "      <td>...</td>\n",
       "      <td>...</td>\n",
       "      <td>...</td>\n",
       "      <td>...</td>\n",
       "      <td>...</td>\n",
       "      <td>...</td>\n",
       "      <td>...</td>\n",
       "      <td>...</td>\n",
       "      <td>...</td>\n",
       "      <td>...</td>\n",
       "      <td>...</td>\n",
       "      <td>...</td>\n",
       "      <td>...</td>\n",
       "      <td>...</td>\n",
       "    </tr>\n",
       "    <tr>\n",
       "      <th>2023</th>\n",
       "      <td>2021-08-01 11:54:44</td>\n",
       "      <td>MR-A068E-1</td>\n",
       "      <td>969fe312-d6a9-48c6-b902-3a8240bf3bcb</td>\n",
       "      <td>8a6bfd3c-21fb-4969-960d-6baad33251d7</td>\n",
       "      <td>The Mughal Empire</td>\n",
       "      <td>23.763041</td>\n",
       "      <td>90.361042</td>\n",
       "      <td>0</td>\n",
       "      <td>23.767878</td>\n",
       "      <td>90.367638</td>\n",
       "      <td>...</td>\n",
       "      <td>1416</td>\n",
       "      <td>98</td>\n",
       "      <td>137</td>\n",
       "      <td>[(23.7631162, 90.3612515), (23.7631163, 90.361...</td>\n",
       "      <td>[(23.7631219, 90.3610575), (23.7631143, 90.361...</td>\n",
       "      <td>0</td>\n",
       "      <td>0</td>\n",
       "      <td>0</td>\n",
       "      <td>0</td>\n",
       "      <td>0</td>\n",
       "    </tr>\n",
       "    <tr>\n",
       "      <th>2024</th>\n",
       "      <td>2021-08-01 11:57:54</td>\n",
       "      <td>FM-E59A6-8</td>\n",
       "      <td>7d7f1bb1-323a-46d8-908e-732deb04bf41</td>\n",
       "      <td>88696949-87bb-4146-89e2-5f633b713771</td>\n",
       "      <td>Khana Ghat</td>\n",
       "      <td>22.356834</td>\n",
       "      <td>91.836577</td>\n",
       "      <td>0</td>\n",
       "      <td>22.337645</td>\n",
       "      <td>91.824768</td>\n",
       "      <td>...</td>\n",
       "      <td>1885</td>\n",
       "      <td>510</td>\n",
       "      <td>115</td>\n",
       "      <td>[(22.3583426, 91.8371037), (22.3583633, 91.837...</td>\n",
       "      <td>[(22.3479853, 91.8328841), (22.3479853, 91.832...</td>\n",
       "      <td>0</td>\n",
       "      <td>0</td>\n",
       "      <td>0</td>\n",
       "      <td>0</td>\n",
       "      <td>0</td>\n",
       "    </tr>\n",
       "    <tr>\n",
       "      <th>2025</th>\n",
       "      <td>2021-08-01 12:31:58</td>\n",
       "      <td>MC-28D4C-7</td>\n",
       "      <td>c3bbe9df-af31-4a4b-af8c-8c6d137ced50</td>\n",
       "      <td>9e2549b0-4f1e-4fea-b751-7e2d43f46167</td>\n",
       "      <td>Chillox - Dhanmondi</td>\n",
       "      <td>23.739212</td>\n",
       "      <td>90.375348</td>\n",
       "      <td>0</td>\n",
       "      <td>23.739836</td>\n",
       "      <td>90.367004</td>\n",
       "      <td>...</td>\n",
       "      <td>1868</td>\n",
       "      <td>228</td>\n",
       "      <td>174</td>\n",
       "      <td>[(23.7450481, 90.3765733), (23.7449712, 90.376...</td>\n",
       "      <td>[(23.7400693, 90.3747728), (23.7400813, 90.374...</td>\n",
       "      <td>0</td>\n",
       "      <td>0</td>\n",
       "      <td>0</td>\n",
       "      <td>0</td>\n",
       "      <td>0</td>\n",
       "    </tr>\n",
       "    <tr>\n",
       "      <th>2026</th>\n",
       "      <td>2021-08-01 11:22:31</td>\n",
       "      <td>RA-15E12-6</td>\n",
       "      <td>bc4d07cd-fc2d-4413-83f0-cf7bd8d8cbe7</td>\n",
       "      <td>d4308bc0-b3a0-4523-8423-3fa75e3212d5</td>\n",
       "      <td>The Sky Lounge &amp; Restaurant</td>\n",
       "      <td>22.358722</td>\n",
       "      <td>91.825058</td>\n",
       "      <td>0</td>\n",
       "      <td>22.357716</td>\n",
       "      <td>91.817970</td>\n",
       "      <td>...</td>\n",
       "      <td>1520</td>\n",
       "      <td>135</td>\n",
       "      <td>119</td>\n",
       "      <td>[(22.3661317, 91.82354), (22.3661317, 91.82354...</td>\n",
       "      <td>[(22.3589078, 91.8250694), (22.3589353, 91.825...</td>\n",
       "      <td>0</td>\n",
       "      <td>0</td>\n",
       "      <td>0</td>\n",
       "      <td>0</td>\n",
       "      <td>0</td>\n",
       "    </tr>\n",
       "    <tr>\n",
       "      <th>2027</th>\n",
       "      <td>2021-08-01 07:40:50</td>\n",
       "      <td>SF-B71FB-13</td>\n",
       "      <td>096fd5ed-8a36-4c40-8c90-ffecbeb78200</td>\n",
       "      <td>b24b64b6-9d12-4602-b80d-27c3099079ec</td>\n",
       "      <td>Burger's World</td>\n",
       "      <td>22.358995</td>\n",
       "      <td>91.825344</td>\n",
       "      <td>0</td>\n",
       "      <td>22.371168</td>\n",
       "      <td>91.811523</td>\n",
       "      <td>...</td>\n",
       "      <td>3471</td>\n",
       "      <td>261</td>\n",
       "      <td>385</td>\n",
       "      <td>[(22.3567817, 91.8365333), (22.3568183, 91.836...</td>\n",
       "      <td>[(22.3592688, 91.8249705), (22.3593434, 91.824...</td>\n",
       "      <td>0</td>\n",
       "      <td>0</td>\n",
       "      <td>0</td>\n",
       "      <td>0</td>\n",
       "      <td>0</td>\n",
       "    </tr>\n",
       "  </tbody>\n",
       "</table>\n",
       "<p>2028 rows × 31 columns</p>\n",
       "</div>"
      ]
     },
     "metadata": {},
     "execution_count": 3
    }
   ],
   "metadata": {
    "scrolled": true
   }
  },
  {
   "cell_type": "code",
   "execution_count": 4,
   "source": [
    "df['res_has_panel']"
   ],
   "outputs": [
    {
     "output_type": "execute_result",
     "data": {
      "text/plain": [
       "0       1\n",
       "1       1\n",
       "2       1\n",
       "3       1\n",
       "4       1\n",
       "       ..\n",
       "2023    1\n",
       "2024    1\n",
       "2025    1\n",
       "2026    1\n",
       "2027    1\n",
       "Name: res_has_panel, Length: 2028, dtype: int64"
      ]
     },
     "metadata": {},
     "execution_count": 4
    }
   ],
   "metadata": {
    "scrolled": true
   }
  },
  {
   "cell_type": "code",
   "execution_count": 5,
   "source": [
    "def fraud_tagged_reason(x):\r\n",
    "    reason = ''\r\n",
    "    if x['lt50m']:\r\n",
    "        reason = 'lt50m'\r\n",
    "    elif x['lt100m'] == 1:\r\n",
    "        reason = 'lt100m'\r\n",
    "    elif x['gt10km']:\r\n",
    "        reason = 'gt10km'\r\n",
    "    elif x['gt20km']:\r\n",
    "        reason = 'gt20km'\r\n",
    "    \r\n",
    "    return reason\r\n",
    "        "
   ],
   "outputs": [],
   "metadata": {
    "scrolled": true
   }
  },
  {
   "cell_type": "code",
   "execution_count": 6,
   "source": [
    "tagged_df = df[((df['lt100m']== 1 ) | (df['lt50m'] == 1) | (df['gt10km']== 1) | (df['gt20km']== 1) ) & (df['res_has_panel']==0) ]"
   ],
   "outputs": [],
   "metadata": {
    "scrolled": true
   }
  },
  {
   "cell_type": "code",
   "execution_count": 7,
   "source": [
    "tagged_df.shape"
   ],
   "outputs": [
    {
     "output_type": "execute_result",
     "data": {
      "text/plain": [
       "(61, 31)"
      ]
     },
     "metadata": {},
     "execution_count": 7
    }
   ],
   "metadata": {
    "scrolled": true
   }
  },
  {
   "cell_type": "code",
   "execution_count": 8,
   "source": [
    "pay_riders_orders = tagged_df[\r\n",
    "    (tagged_df['payment_difference_between_user_restaurant']<0) & (tagged_df['restaurant_payment_type'] == 0)\r\n",
    "]"
   ],
   "outputs": [],
   "metadata": {
    "scrolled": true
   }
  },
  {
   "cell_type": "code",
   "execution_count": 9,
   "source": [
    "pay_riders_orders.shape"
   ],
   "outputs": [
    {
     "output_type": "execute_result",
     "data": {
      "text/plain": [
       "(49, 31)"
      ]
     },
     "metadata": {},
     "execution_count": 9
    }
   ],
   "metadata": {
    "scrolled": true
   }
  },
  {
   "cell_type": "code",
   "execution_count": 10,
   "source": [
    "pay_riders_orders['time_pickedup_at_to_delivered_at'] = pay_riders_orders['time_pickedup_at_to_delivered_at'].apply(lambda x: round(x,2))"
   ],
   "outputs": [
    {
     "output_type": "stream",
     "name": "stderr",
     "text": [
      "<ipython-input-10-2a617fbc5743>:1: SettingWithCopyWarning: \n",
      "A value is trying to be set on a copy of a slice from a DataFrame.\n",
      "Try using .loc[row_indexer,col_indexer] = value instead\n",
      "\n",
      "See the caveats in the documentation: https://pandas.pydata.org/pandas-docs/stable/user_guide/indexing.html#returning-a-view-versus-a-copy\n",
      "  pay_riders_orders['time_pickedup_at_to_delivered_at'] = pay_riders_orders['time_pickedup_at_to_delivered_at'].apply(lambda x: round(x,2))\n"
     ]
    }
   ],
   "metadata": {
    "scrolled": true
   }
  },
  {
   "cell_type": "code",
   "execution_count": 11,
   "source": [
    "pay_riders_orders['tagged_reason'] = pay_riders_orders.apply(lambda x: fraud_tagged_reason(x), axis =1 )"
   ],
   "outputs": [
    {
     "output_type": "stream",
     "name": "stderr",
     "text": [
      "<ipython-input-11-e02144fbc3d5>:1: SettingWithCopyWarning: \n",
      "A value is trying to be set on a copy of a slice from a DataFrame.\n",
      "Try using .loc[row_indexer,col_indexer] = value instead\n",
      "\n",
      "See the caveats in the documentation: https://pandas.pydata.org/pandas-docs/stable/user_guide/indexing.html#returning-a-view-versus-a-copy\n",
      "  pay_riders_orders['tagged_reason'] = pay_riders_orders.apply(lambda x: fraud_tagged_reason(x), axis =1 )\n"
     ]
    }
   ],
   "metadata": {
    "scrolled": true
   }
  },
  {
   "cell_type": "code",
   "execution_count": 12,
   "source": [
    "tagged_providers_grouped = pay_riders_orders.groupby(\r\n",
    "    'provider_id',\r\n",
    ").agg(\r\n",
    "    {\r\n",
    "        'coupon_code': list,\r\n",
    "        'order_id': list,\r\n",
    "        'time_pickedup_at_to_delivered_at' : list,\r\n",
    "        'count_coordinates_pickedup_delivered' : list,\r\n",
    "        'tagged_reason' : list,\r\n",
    "    }\r\n",
    "    \r\n",
    ").reset_index()\r\n",
    "tagged_providers_grouped['tagged_order_count'] = tagged_providers_grouped['order_id'].apply(lambda x: len(x))\r\n",
    "tagged_providers_grouped.shape"
   ],
   "outputs": [
    {
     "output_type": "execute_result",
     "data": {
      "text/plain": [
       "(29, 7)"
      ]
     },
     "metadata": {},
     "execution_count": 12
    }
   ],
   "metadata": {
    "scrolled": false
   }
  },
  {
   "cell_type": "code",
   "execution_count": 13,
   "source": [
    "all_providers = df.groupby(\r\n",
    "    'provider_id',\r\n",
    ").agg(\r\n",
    "    {\r\n",
    "        'order_id': list,\r\n",
    "    }\r\n",
    "    \r\n",
    ").reset_index()\r\n",
    "all_providers['total_order_count'] = all_providers['order_id'].apply(lambda x: len(x))\r\n",
    "all_providers.shape"
   ],
   "outputs": [
    {
     "output_type": "execute_result",
     "data": {
      "text/plain": [
       "(385, 3)"
      ]
     },
     "metadata": {},
     "execution_count": 13
    }
   ],
   "metadata": {
    "scrolled": true
   }
  },
  {
   "cell_type": "code",
   "execution_count": 14,
   "source": [
    "all_providers = all_providers.drop(\r\n",
    "    columns= [\r\n",
    "        'order_id'\r\n",
    "    ]\r\n",
    ")\r\n",
    "merge_providers = tagged_providers_grouped.merge(\r\n",
    "    all_providers,\r\n",
    "    left_on = 'provider_id',\r\n",
    "    right_on= 'provider_id',\r\n",
    "    how = 'left'\r\n",
    ")\r\n",
    "merge_providers['tagged_ratio'] = merge_providers['tagged_order_count'] / merge_providers['total_order_count']\r\n",
    "merge_providers.shape"
   ],
   "outputs": [
    {
     "output_type": "execute_result",
     "data": {
      "text/plain": [
       "(29, 9)"
      ]
     },
     "metadata": {},
     "execution_count": 14
    }
   ],
   "metadata": {
    "scrolled": false
   }
  },
  {
   "cell_type": "code",
   "execution_count": 15,
   "source": [
    "merge_providers['tagged_order_count'].sum()"
   ],
   "outputs": [
    {
     "output_type": "execute_result",
     "data": {
      "text/plain": [
       "49"
      ]
     },
     "metadata": {},
     "execution_count": 15
    }
   ],
   "metadata": {
    "scrolled": true
   }
  },
  {
   "cell_type": "code",
   "execution_count": 16,
   "source": [
    "merge_providers.columns"
   ],
   "outputs": [
    {
     "output_type": "execute_result",
     "data": {
      "text/plain": [
       "Index(['provider_id', 'coupon_code', 'order_id',\n",
       "       'time_pickedup_at_to_delivered_at',\n",
       "       'count_coordinates_pickedup_delivered', 'tagged_reason',\n",
       "       'tagged_order_count', 'total_order_count', 'tagged_ratio'],\n",
       "      dtype='object')"
      ]
     },
     "metadata": {},
     "execution_count": 16
    }
   ],
   "metadata": {
    "scrolled": false
   }
  },
  {
   "cell_type": "code",
   "execution_count": 17,
   "source": [
    "date = datetime.strftime(datetime.now() - timedelta(number), '%Y-%m-%d')\r\n",
    "merge_providers['order_date'] = date\r\n",
    "merge_providers.shape"
   ],
   "outputs": [
    {
     "output_type": "execute_result",
     "data": {
      "text/plain": [
       "(29, 10)"
      ]
     },
     "metadata": {},
     "execution_count": 17
    }
   ],
   "metadata": {
    "scrolled": false
   }
  },
  {
   "cell_type": "code",
   "execution_count": 18,
   "source": [
    "file_creds = \"db_creds_analytics.json\"\r\n",
    "dbmanager = DatabaseManager(file=file_creds)\r\n",
    "write_to_db(\r\n",
    "    table=\"table_name\",\r\n",
    "    db=dbmanager,\r\n",
    "    df=merge_providers,\r\n",
    ")\r\n",
    "dbmanager.close()"
   ],
   "outputs": [
    {
     "output_type": "stream",
     "name": "stdout",
     "text": [
      "[('0a5d3f8a-5dc8-483c-8530-fe5ae17fd420', 'BLAST50', 'JJ-30DCF-10', '132.9', '1015', 'gt10km', '1', '2', '0.5', '2021-08-01'), ('1daefedb-dc2f-4c37-83bf-6b6312724f91', 'BLAST50', 'TI-409E0-1', '11.85', '139', 'lt100m', '1', '10', '0.1', '2021-08-01'), ('2428aff0-5890-4758-aab1-7e73243b43e3', 'BLAST50,BLAST50', 'SA-A5EF5-25,MA-485D9-4', '5.27,1.02', '62,12', 'lt50m,lt50m', '2', '10', '0.2', '2021-08-01'), ('25f3ceac-56a8-4917-91ad-281f62784291', 'BLAST50', 'ME-D9E0C-4', '3.27', '38', 'lt50m', '1', '12', '0.08333333333333333', '2021-08-01'), ('3356b90e-be49-40db-ab38-360783404ef3', 'BLAST50', 'MS-25A96-2', '0.32', '3', 'lt50m', '1', '7', '0.14285714285714285', '2021-08-01')]\n"
     ]
    }
   ],
   "metadata": {
    "scrolled": true
   }
  },
  {
   "cell_type": "code",
   "execution_count": null,
   "source": [],
   "outputs": [],
   "metadata": {
    "scrolled": false
   }
  }
 ],
 "metadata": {
  "kernelspec": {
   "display_name": "Python 3",
   "language": "python",
   "name": "python3"
  },
  "language_info": {
   "codemirror_mode": {
    "name": "ipython",
    "version": 3
   },
   "file_extension": ".py",
   "mimetype": "text/x-python",
   "name": "python",
   "nbconvert_exporter": "python",
   "pygments_lexer": "ipython3",
   "version": "3.8.3"
  }
 },
 "nbformat": 4,
 "nbformat_minor": 4
}